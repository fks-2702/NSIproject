{
  "cells": [
    {
      "cell_type": "markdown",
      "metadata": {
        "tags": [],
        "user_expressions": [],
        "id": "_upW_szZkJMi"
      },
      "source": [
        "<div style=\"width:100%;border-collapse:separate;border:solid 2px;border-radius:30px;border-color:blue;background-color:lightblue\">\n",
        "    <h1 style=\"width:100%;text-align:center;color:blue;\">Projet convertisseur binaire graphique</h1>\n",
        "</div>"
      ]
    },
    {
      "cell_type": "markdown",
      "metadata": {
        "user_expressions": [],
        "id": "VnYgUcv_kJMk"
      },
      "source": [
        "<font color=red>**Les codes suivants seront exécutés à partir de Thonny**</font>"
      ]
    },
    {
      "cell_type": "markdown",
      "metadata": {
        "user_expressions": [],
        "id": "6upRVBfpkJMl"
      },
      "source": [
        "L'objectif de ce projet est de réaliser le défi 8 : la réalisation d'un convertisseur du décimal vers le binaire et du binaire vers le décimal.\n",
        "\n",
        "![image.png](attachment:7e15baf2-ee26-40e5-9fae-700a0a49528e.png)\n",
        "\n",
        "Pour cela, une prise en main de la bibliothèque Tkinter est proposée ci-dessous."
      ]
    },
    {
      "cell_type": "markdown",
      "metadata": {
        "user_expressions": [],
        "id": "IrWMOqQskJMl"
      },
      "source": [
        "On pourra évidemment compléter cela avec d'autres fonctionnalités selon vos idées."
      ]
    },
    {
      "cell_type": "markdown",
      "metadata": {
        "user_expressions": [],
        "id": "So9DAgNSkJMl"
      },
      "source": [
        "Ce projet sera réalisé en groupe de 2 ou 3 élèves.\n",
        "\n",
        "Il sera évalué selon les critères suivants :  \n",
        "\n",
        "|  |  |\n",
        "|---|---|\n",
        "| Répartition du travail | Précise et complète : 2 |\n",
        "| | Imprécise ou incomplète : 1 |\n",
        "| | Non fournie : 0 |\n",
        "| Rédaction de la documentation | Complète et explicite : 2 |\n",
        "| | Incomplète ou peu explicite : 1 |\n",
        "| | Non fournie : 0 |\n",
        "| Écriture du code | Valide totalement le cahier des charges : 10 |\n",
        "| | Valide majoritairement le cahier des charges : 8 |\n",
        "| |  Valide minoritairement le cahier des charges : 4 |\n",
        "| | Ne valide pas le cahier des charges : 2 |\n",
        "| | Code non fourni : 0 |\n",
        "| Écriture du code | Le code est clair et structuré : 2 |\n",
        "| | Le code est clair ou structuré : 1 |\n",
        "| | Le code n’est ni clair ni structuré : 0 |\n",
        "| Écriture du code | Le code est commenté et les docstring sont écrites : 2 |\n",
        "| | Le code est en partie commenté : 1 |\n",
        "| | Le code n’est pas commenté : 0 |\n",
        "| Tests et exemples | Des tests complets et/ou exemples sont proposés : 2 |\n",
        "| | Des tests partiels et/ou exemples sont proposés : 1 |\n",
        "| | Aucun test ou exemple n'est proposé : 0 |"
      ]
    },
    {
      "cell_type": "markdown",
      "metadata": {
        "id": "2AaP7HwE8QlE",
        "tags": [],
        "user_expressions": []
      },
      "source": [
        "<div class=\"alert alert-success\" role=\"alert\" align=\"center\"><h2>Prise en main de Tkinter</h2></div>"
      ]
    },
    {
      "cell_type": "markdown",
      "metadata": {
        "tags": [],
        "user_expressions": [],
        "id": "AxEqom_gkJMm"
      },
      "source": [
        "<h2 style=\"width:100%;text-align:right;color:blue;\">\n",
        "    Des fenêtres\n",
        "</h2>"
      ]
    },
    {
      "cell_type": "markdown",
      "metadata": {
        "user_expressions": [],
        "id": "9kAmXvnPkJMm"
      },
      "source": [
        "Pour créer une fenêtre minimale, trois lignes sont suffisantes.  \n",
        "> Testez le code suivant :"
      ]
    },
    {
      "cell_type": "code",
      "execution_count": null,
      "metadata": {
        "id": "pnOnHs4TkJMm",
        "colab": {
          "base_uri": "https://localhost:8080/",
          "height": 401
        },
        "outputId": "32e9bf61-51e4-42a9-d93f-3d5ff74bbe69"
      },
      "outputs": [
        {
          "output_type": "error",
          "ename": "TclError",
          "evalue": "ignored",
          "traceback": [
            "\u001b[0;31m---------------------------------------------------------------------------\u001b[0m",
            "\u001b[0;31mTclError\u001b[0m                                  Traceback (most recent call last)",
            "\u001b[0;32m<ipython-input-2-28389fb81d30>\u001b[0m in \u001b[0;36m<cell line: 8>\u001b[0;34m()\u001b[0m\n\u001b[1;32m      6\u001b[0m \u001b[0;31m# on y accède par la variable fenetre (on aurait pu mettre un autre nom)\u001b[0m\u001b[0;34m\u001b[0m\u001b[0;34m\u001b[0m\u001b[0m\n\u001b[1;32m      7\u001b[0m \u001b[0;34m\u001b[0m\u001b[0m\n\u001b[0;32m----> 8\u001b[0;31m \u001b[0mfenetre\u001b[0m \u001b[0;34m=\u001b[0m \u001b[0mTk\u001b[0m\u001b[0;34m(\u001b[0m\u001b[0;34m)\u001b[0m\u001b[0;34m\u001b[0m\u001b[0;34m\u001b[0m\u001b[0m\n\u001b[0m\u001b[1;32m      9\u001b[0m \u001b[0;34m\u001b[0m\u001b[0m\n\u001b[1;32m     10\u001b[0m \u001b[0;31m# voici la \"boucle\" qui lance l'observateur d'évenements\u001b[0m\u001b[0;34m\u001b[0m\u001b[0;34m\u001b[0m\u001b[0m\n",
            "\u001b[0;32m/usr/lib/python3.10/tkinter/__init__.py\u001b[0m in \u001b[0;36m__init__\u001b[0;34m(self, screenName, baseName, className, useTk, sync, use)\u001b[0m\n\u001b[1;32m   2297\u001b[0m                 \u001b[0mbaseName\u001b[0m \u001b[0;34m=\u001b[0m \u001b[0mbaseName\u001b[0m \u001b[0;34m+\u001b[0m \u001b[0mext\u001b[0m\u001b[0;34m\u001b[0m\u001b[0;34m\u001b[0m\u001b[0m\n\u001b[1;32m   2298\u001b[0m         \u001b[0minteractive\u001b[0m \u001b[0;34m=\u001b[0m \u001b[0;32mFalse\u001b[0m\u001b[0;34m\u001b[0m\u001b[0;34m\u001b[0m\u001b[0m\n\u001b[0;32m-> 2299\u001b[0;31m         \u001b[0mself\u001b[0m\u001b[0;34m.\u001b[0m\u001b[0mtk\u001b[0m \u001b[0;34m=\u001b[0m \u001b[0m_tkinter\u001b[0m\u001b[0;34m.\u001b[0m\u001b[0mcreate\u001b[0m\u001b[0;34m(\u001b[0m\u001b[0mscreenName\u001b[0m\u001b[0;34m,\u001b[0m \u001b[0mbaseName\u001b[0m\u001b[0;34m,\u001b[0m \u001b[0mclassName\u001b[0m\u001b[0;34m,\u001b[0m \u001b[0minteractive\u001b[0m\u001b[0;34m,\u001b[0m \u001b[0mwantobjects\u001b[0m\u001b[0;34m,\u001b[0m \u001b[0museTk\u001b[0m\u001b[0;34m,\u001b[0m \u001b[0msync\u001b[0m\u001b[0;34m,\u001b[0m \u001b[0muse\u001b[0m\u001b[0;34m)\u001b[0m\u001b[0;34m\u001b[0m\u001b[0;34m\u001b[0m\u001b[0m\n\u001b[0m\u001b[1;32m   2300\u001b[0m         \u001b[0;32mif\u001b[0m \u001b[0museTk\u001b[0m\u001b[0;34m:\u001b[0m\u001b[0;34m\u001b[0m\u001b[0;34m\u001b[0m\u001b[0m\n\u001b[1;32m   2301\u001b[0m             \u001b[0mself\u001b[0m\u001b[0;34m.\u001b[0m\u001b[0m_loadtk\u001b[0m\u001b[0;34m(\u001b[0m\u001b[0;34m)\u001b[0m\u001b[0;34m\u001b[0m\u001b[0;34m\u001b[0m\u001b[0m\n",
            "\u001b[0;31mTclError\u001b[0m: no display name and no $DISPLAY environment variable"
          ]
        }
      ],
      "source": [
        "# on importe le module tkinter\n",
        "\n",
        "from tkinter import *\n",
        "\n",
        "# on crée la fenêtre principale\n",
        "# on y accède par la variable fenetre (on aurait pu mettre un autre nom)\n",
        "\n",
        "fenetre = Tk()\n",
        "\n",
        "# voici la \"boucle\" qui lance l'observateur d'évenements\n",
        "# le programme va \"surveiller\" la fenêtre en attendant une action\n",
        "\n",
        "fenetre.mainloop()"
      ]
    },
    {
      "cell_type": "markdown",
      "metadata": {
        "tags": [],
        "user_expressions": [],
        "id": "qMB-_mdmkJMn"
      },
      "source": [
        "<div class=\"alert alert-success\" role=\"alert\" align=\"center\"><h2>Synthèse</h2></div>"
      ]
    },
    {
      "cell_type": "markdown",
      "metadata": {
        "id": "mupXW4i7kJMn"
      },
      "source": [
        "- Comment s'appelle le module à importer ?\n",
        "tkinter\n",
        "- Quelle instruction permet de créer la fenêtre principale ? fenetre = Tk()\n",
        "- Quelle instruction lance l'observateur d'événements ? fenetre.mainloop()"
      ]
    },
    {
      "cell_type": "markdown",
      "metadata": {
        "user_expressions": [],
        "id": "qYsBEMLxkJMn"
      },
      "source": [
        "<h2 style=\"width:100%;text-align:right;color:blue;\">\n",
        "    Créer une fenêtre de dimensions données\n",
        "</h2>"
      ]
    },
    {
      "cell_type": "markdown",
      "metadata": {
        "user_expressions": [],
        "id": "g61ZlhT4kJMn"
      },
      "source": [
        "> Testez le code suivant :"
      ]
    },
    {
      "cell_type": "code",
      "execution_count": null,
      "metadata": {
        "id": "mr9ehmQ8kJMo",
        "colab": {
          "base_uri": "https://localhost:8080/",
          "height": 366
        },
        "outputId": "e7e43ea6-e85f-4e3a-c05d-5e11945d4952"
      },
      "outputs": [
        {
          "output_type": "error",
          "ename": "TclError",
          "evalue": "ignored",
          "traceback": [
            "\u001b[0;31m---------------------------------------------------------------------------\u001b[0m",
            "\u001b[0;31mTclError\u001b[0m                                  Traceback (most recent call last)",
            "\u001b[0;32m<ipython-input-1-1740d179bd2f>\u001b[0m in \u001b[0;36m<cell line: 7>\u001b[0;34m()\u001b[0m\n\u001b[1;32m      5\u001b[0m \u001b[0;31m# on crée la fenêtre principale\u001b[0m\u001b[0;34m\u001b[0m\u001b[0;34m\u001b[0m\u001b[0m\n\u001b[1;32m      6\u001b[0m \u001b[0;34m\u001b[0m\u001b[0m\n\u001b[0;32m----> 7\u001b[0;31m \u001b[0mfenetre\u001b[0m \u001b[0;34m=\u001b[0m \u001b[0mTk\u001b[0m\u001b[0;34m(\u001b[0m\u001b[0;34m)\u001b[0m\u001b[0;34m\u001b[0m\u001b[0;34m\u001b[0m\u001b[0m\n\u001b[0m\u001b[1;32m      8\u001b[0m \u001b[0;34m\u001b[0m\u001b[0m\n\u001b[1;32m      9\u001b[0m \u001b[0;31m# on définit la taille de la fenêtre\u001b[0m\u001b[0;34m\u001b[0m\u001b[0;34m\u001b[0m\u001b[0m\n",
            "\u001b[0;32m/usr/lib/python3.10/tkinter/__init__.py\u001b[0m in \u001b[0;36m__init__\u001b[0;34m(self, screenName, baseName, className, useTk, sync, use)\u001b[0m\n\u001b[1;32m   2297\u001b[0m                 \u001b[0mbaseName\u001b[0m \u001b[0;34m=\u001b[0m \u001b[0mbaseName\u001b[0m \u001b[0;34m+\u001b[0m \u001b[0mext\u001b[0m\u001b[0;34m\u001b[0m\u001b[0;34m\u001b[0m\u001b[0m\n\u001b[1;32m   2298\u001b[0m         \u001b[0minteractive\u001b[0m \u001b[0;34m=\u001b[0m \u001b[0;32mFalse\u001b[0m\u001b[0;34m\u001b[0m\u001b[0;34m\u001b[0m\u001b[0m\n\u001b[0;32m-> 2299\u001b[0;31m         \u001b[0mself\u001b[0m\u001b[0;34m.\u001b[0m\u001b[0mtk\u001b[0m \u001b[0;34m=\u001b[0m \u001b[0m_tkinter\u001b[0m\u001b[0;34m.\u001b[0m\u001b[0mcreate\u001b[0m\u001b[0;34m(\u001b[0m\u001b[0mscreenName\u001b[0m\u001b[0;34m,\u001b[0m \u001b[0mbaseName\u001b[0m\u001b[0;34m,\u001b[0m \u001b[0mclassName\u001b[0m\u001b[0;34m,\u001b[0m \u001b[0minteractive\u001b[0m\u001b[0;34m,\u001b[0m \u001b[0mwantobjects\u001b[0m\u001b[0;34m,\u001b[0m \u001b[0museTk\u001b[0m\u001b[0;34m,\u001b[0m \u001b[0msync\u001b[0m\u001b[0;34m,\u001b[0m \u001b[0muse\u001b[0m\u001b[0;34m)\u001b[0m\u001b[0;34m\u001b[0m\u001b[0;34m\u001b[0m\u001b[0m\n\u001b[0m\u001b[1;32m   2300\u001b[0m         \u001b[0;32mif\u001b[0m \u001b[0museTk\u001b[0m\u001b[0;34m:\u001b[0m\u001b[0;34m\u001b[0m\u001b[0;34m\u001b[0m\u001b[0m\n\u001b[1;32m   2301\u001b[0m             \u001b[0mself\u001b[0m\u001b[0;34m.\u001b[0m\u001b[0m_loadtk\u001b[0m\u001b[0;34m(\u001b[0m\u001b[0;34m)\u001b[0m\u001b[0;34m\u001b[0m\u001b[0;34m\u001b[0m\u001b[0m\n",
            "\u001b[0;31mTclError\u001b[0m: no display name and no $DISPLAY environment variable"
          ]
        }
      ],
      "source": [
        "# on importe le module tkinter\n",
        "\n",
        "from tkinter import *\n",
        "\n",
        "# on crée la fenêtre principale\n",
        "\n",
        "fenetre = Tk()\n",
        "\n",
        "# on définit la taille de la fenêtre\n",
        "\n",
        "fenetre.geometry(\"300x400\")\n",
        "\n",
        "# le titre\n",
        "\n",
        "fenetre.title(\"Ma première fenêtre\")\n",
        "\n",
        "# voici la \"boucle\" qui lance l'observateur d'évenements\n",
        "# le programme va \"surveiller\" la fenêtre en attendant une action\n",
        "\n",
        "fenetre.mainloop()"
      ]
    },
    {
      "cell_type": "markdown",
      "metadata": {
        "tags": [],
        "user_expressions": [],
        "id": "QPWx-R_BkJMo"
      },
      "source": [
        "<div class=\"alert alert-success\" role=\"alert\" align=\"center\"><h2>Synthèse</h2></div>"
      ]
    },
    {
      "cell_type": "markdown",
      "metadata": {
        "user_expressions": [],
        "id": "Vs8TXFsAkJMo"
      },
      "source": [
        "- Comment indique-t-on la taille de la fenêtre ? fenetre.geometry\n",
        "- La méthode `geometry` nécessite un argument, quel est son type ? La resolution de la fenetre\n",
        "- Que signifient chacun des deux nombres présents dans cet argument ?\n",
        "Le nombre de pixel en hauteur et en latgeur\n",
        "- Quelle syntaxe utiliser pour donner un titre à votre fenêtre :\n",
        "fenetre.titre(\"\")"
      ]
    },
    {
      "cell_type": "markdown",
      "metadata": {
        "user_expressions": [],
        "id": "NCalXPPCkJMo"
      },
      "source": [
        "<h2 style=\"width:100%;text-align:right;color:blue;\">\n",
        "    Créer une fenêtre à un endroit spécifique de l’écran\n",
        "</h2>"
      ]
    },
    {
      "cell_type": "markdown",
      "metadata": {
        "user_expressions": [],
        "id": "XID7X-IokJMo"
      },
      "source": [
        "On complète le paramètre de la méthode `geometry`.  \n",
        "![image.png](attachment:9062c95d-da5e-403c-bcd1-506bb392600b.png)"
      ]
    },
    {
      "cell_type": "markdown",
      "metadata": {
        "user_expressions": [],
        "id": "_NSRydgnkJMo"
      },
      "source": [
        "> Testez le code suivant :"
      ]
    },
    {
      "cell_type": "code",
      "execution_count": null,
      "metadata": {
        "id": "t0L6J6PMkJMo",
        "colab": {
          "base_uri": "https://localhost:8080/",
          "height": 366
        },
        "outputId": "cb2fa3ba-2f29-481f-a050-9a8afa9d4ebf"
      },
      "outputs": [
        {
          "output_type": "error",
          "ename": "TclError",
          "evalue": "ignored",
          "traceback": [
            "\u001b[0;31m---------------------------------------------------------------------------\u001b[0m",
            "\u001b[0;31mTclError\u001b[0m                                  Traceback (most recent call last)",
            "\u001b[0;32m<ipython-input-4-2df9204601fd>\u001b[0m in \u001b[0;36m<cell line: 7>\u001b[0;34m()\u001b[0m\n\u001b[1;32m      5\u001b[0m \u001b[0;31m# on crée la fenêtre principale\u001b[0m\u001b[0;34m\u001b[0m\u001b[0;34m\u001b[0m\u001b[0m\n\u001b[1;32m      6\u001b[0m \u001b[0;34m\u001b[0m\u001b[0m\n\u001b[0;32m----> 7\u001b[0;31m \u001b[0mfenetre\u001b[0m \u001b[0;34m=\u001b[0m \u001b[0mTk\u001b[0m\u001b[0;34m(\u001b[0m\u001b[0;34m\"Test\"\u001b[0m\u001b[0;34m)\u001b[0m\u001b[0;34m\u001b[0m\u001b[0;34m\u001b[0m\u001b[0m\n\u001b[0m\u001b[1;32m      8\u001b[0m \u001b[0;34m\u001b[0m\u001b[0m\n\u001b[1;32m      9\u001b[0m \u001b[0;31m# on définit la taille de la fenêtre et le placement\u001b[0m\u001b[0;34m\u001b[0m\u001b[0;34m\u001b[0m\u001b[0m\n",
            "\u001b[0;32m/usr/lib/python3.10/tkinter/__init__.py\u001b[0m in \u001b[0;36m__init__\u001b[0;34m(self, screenName, baseName, className, useTk, sync, use)\u001b[0m\n\u001b[1;32m   2297\u001b[0m                 \u001b[0mbaseName\u001b[0m \u001b[0;34m=\u001b[0m \u001b[0mbaseName\u001b[0m \u001b[0;34m+\u001b[0m \u001b[0mext\u001b[0m\u001b[0;34m\u001b[0m\u001b[0;34m\u001b[0m\u001b[0m\n\u001b[1;32m   2298\u001b[0m         \u001b[0minteractive\u001b[0m \u001b[0;34m=\u001b[0m \u001b[0;32mFalse\u001b[0m\u001b[0;34m\u001b[0m\u001b[0;34m\u001b[0m\u001b[0m\n\u001b[0;32m-> 2299\u001b[0;31m         \u001b[0mself\u001b[0m\u001b[0;34m.\u001b[0m\u001b[0mtk\u001b[0m \u001b[0;34m=\u001b[0m \u001b[0m_tkinter\u001b[0m\u001b[0;34m.\u001b[0m\u001b[0mcreate\u001b[0m\u001b[0;34m(\u001b[0m\u001b[0mscreenName\u001b[0m\u001b[0;34m,\u001b[0m \u001b[0mbaseName\u001b[0m\u001b[0;34m,\u001b[0m \u001b[0mclassName\u001b[0m\u001b[0;34m,\u001b[0m \u001b[0minteractive\u001b[0m\u001b[0;34m,\u001b[0m \u001b[0mwantobjects\u001b[0m\u001b[0;34m,\u001b[0m \u001b[0museTk\u001b[0m\u001b[0;34m,\u001b[0m \u001b[0msync\u001b[0m\u001b[0;34m,\u001b[0m \u001b[0muse\u001b[0m\u001b[0;34m)\u001b[0m\u001b[0;34m\u001b[0m\u001b[0;34m\u001b[0m\u001b[0m\n\u001b[0m\u001b[1;32m   2300\u001b[0m         \u001b[0;32mif\u001b[0m \u001b[0museTk\u001b[0m\u001b[0;34m:\u001b[0m\u001b[0;34m\u001b[0m\u001b[0;34m\u001b[0m\u001b[0m\n\u001b[1;32m   2301\u001b[0m             \u001b[0mself\u001b[0m\u001b[0;34m.\u001b[0m\u001b[0m_loadtk\u001b[0m\u001b[0;34m(\u001b[0m\u001b[0;34m)\u001b[0m\u001b[0;34m\u001b[0m\u001b[0;34m\u001b[0m\u001b[0m\n",
            "\u001b[0;31mTclError\u001b[0m: couldn't connect to display \"Test\""
          ]
        }
      ],
      "source": [
        "# on importe le module tkinter\n",
        "\n",
        "from tkinter import *\n",
        "\n",
        "# on crée la fenêtre principale\n",
        "\n",
        "fenetre = Tk()\n",
        "\n",
        "# on définit la taille de la fenêtre et le placement\n",
        "\n",
        "fenetre.geometry(\"300x100+500+80\")\n",
        "\n",
        "\n",
        "# le titre\n",
        "\n",
        "fenetre.title(\"Ma première fenêtre\")\n",
        "\n",
        "# voici la \"boucle\" qui lance l'observateur d'évenements\n",
        "# le programme va \"surveiller\" la fenêtre en attendant une action\n",
        "\n",
        "fenetre.mainloop()"
      ]
    },
    {
      "cell_type": "markdown",
      "metadata": {
        "tags": [],
        "user_expressions": [],
        "id": "lDqY-yiBkJMo"
      },
      "source": [
        "<div class=\"alert alert-success\" role=\"alert\" align=\"center\"><h2>Synthèse</h2></div>"
      ]
    },
    {
      "cell_type": "markdown",
      "metadata": {
        "user_expressions": [],
        "id": "-T1FosAXkJMp"
      },
      "source": [
        "- En Python, où est le point de cordonnées (0;0) sur l'écran ? …......................................................\n",
        "- La méthode `geometry` : quelle forme donner au paramètre pour gérer la taille mais aussi le positionnement de la fenêtre ? …....................................................................................................\n",
        "- Donner, dans l'ordre, le rôle des 4 nombres qui apparaissent dans le paramètre de la méthode `geometry` : …...................................................................................................................................\n",
        "- Quels signes d'opération arithmétiques apparaissent dans l'argument ? …...................................."
      ]
    },
    {
      "cell_type": "markdown",
      "metadata": {
        "user_expressions": [],
        "id": "sP42uj3KkJMp"
      },
      "source": [
        "<h2 style=\"width:100%;text-align:left;color:darkorange;\">\n",
        "    Défi n˚ 1\n",
        "</h2>"
      ]
    },
    {
      "cell_type": "markdown",
      "metadata": {
        "user_expressions": [],
        "id": "YHOr27CLkJMp"
      },
      "source": [
        "> Créez une fenêtre nommée « NSI rocks !! », de 150 px de largeur, 250 px de hauteur, située dans le coin en bas à droite de votre écran."
      ]
    },
    {
      "cell_type": "code",
      "execution_count": null,
      "metadata": {
        "id": "TElAsdUtkJMp"
      },
      "outputs": [],
      "source": []
    },
    {
      "cell_type": "markdown",
      "metadata": {
        "user_expressions": [],
        "id": "J_2QdhyFkJMp"
      },
      "source": [
        "<h2 style=\"width:100%;text-align:right;color:blue;\">\n",
        "    Des widgets\n",
        "</h2>"
      ]
    },
    {
      "cell_type": "markdown",
      "metadata": {
        "user_expressions": [],
        "id": "B-aD9Op8kJMp"
      },
      "source": [
        "### <font color=blue>Nos premiers widgets  </font>\n",
        "Nous allons créer et placer sur la fenêtre des objets que l'on appelle des `widgets`.  \n",
        "Commençons avec 3 objets de base : une zone de texte, une zone de saisie et un bouton.  "
      ]
    },
    {
      "cell_type": "markdown",
      "metadata": {
        "user_expressions": [],
        "id": "JGUhUwLVkJMp"
      },
      "source": [
        "> Testez le code suivant :"
      ]
    },
    {
      "cell_type": "code",
      "execution_count": null,
      "metadata": {
        "id": "Bkf31Yc3kJMp",
        "colab": {
          "base_uri": "https://localhost:8080/",
          "height": 401
        },
        "outputId": "c4d6dae5-f38b-48e6-d4cb-af69ee5c6a1c"
      },
      "outputs": [
        {
          "output_type": "error",
          "ename": "TclError",
          "evalue": "ignored",
          "traceback": [
            "\u001b[0;31m---------------------------------------------------------------------------\u001b[0m",
            "\u001b[0;31mTclError\u001b[0m                                  Traceback (most recent call last)",
            "\u001b[0;32m<ipython-input-1-88adfdd5f90e>\u001b[0m in \u001b[0;36m<cell line: 3>\u001b[0;34m()\u001b[0m\n\u001b[1;32m      1\u001b[0m \u001b[0;32mfrom\u001b[0m \u001b[0mtkinter\u001b[0m \u001b[0;32mimport\u001b[0m \u001b[0;34m*\u001b[0m  \u001b[0;31m# on importe le module tkinter\u001b[0m\u001b[0;34m\u001b[0m\u001b[0;34m\u001b[0m\u001b[0m\n\u001b[1;32m      2\u001b[0m \u001b[0;34m\u001b[0m\u001b[0m\n\u001b[0;32m----> 3\u001b[0;31m \u001b[0mfenetre\u001b[0m \u001b[0;34m=\u001b[0m \u001b[0mTk\u001b[0m\u001b[0;34m(\u001b[0m\u001b[0;34m)\u001b[0m \u001b[0;31m# on crée la fenêtre principale, elle se nomme fenetre\u001b[0m\u001b[0;34m\u001b[0m\u001b[0;34m\u001b[0m\u001b[0m\n\u001b[0m\u001b[1;32m      4\u001b[0m \u001b[0mfenetre\u001b[0m\u001b[0;34m.\u001b[0m\u001b[0mgeometry\u001b[0m\u001b[0;34m(\u001b[0m\u001b[0;34m\"250x200\"\u001b[0m\u001b[0;34m)\u001b[0m  \u001b[0;31m# on définit la taille de la fenêtre\u001b[0m\u001b[0;34m\u001b[0m\u001b[0;34m\u001b[0m\u001b[0m\n\u001b[1;32m      5\u001b[0m \u001b[0mfenetre\u001b[0m\u001b[0;34m.\u001b[0m\u001b[0mtitle\u001b[0m\u001b[0;34m(\u001b[0m\u001b[0;34m\"Mes premiers widgets\"\u001b[0m\u001b[0;34m)\u001b[0m \u001b[0;31m# le titre de la fenêtre\u001b[0m\u001b[0;34m\u001b[0m\u001b[0;34m\u001b[0m\u001b[0m\n",
            "\u001b[0;32m/usr/lib/python3.10/tkinter/__init__.py\u001b[0m in \u001b[0;36m__init__\u001b[0;34m(self, screenName, baseName, className, useTk, sync, use)\u001b[0m\n\u001b[1;32m   2297\u001b[0m                 \u001b[0mbaseName\u001b[0m \u001b[0;34m=\u001b[0m \u001b[0mbaseName\u001b[0m \u001b[0;34m+\u001b[0m \u001b[0mext\u001b[0m\u001b[0;34m\u001b[0m\u001b[0;34m\u001b[0m\u001b[0m\n\u001b[1;32m   2298\u001b[0m         \u001b[0minteractive\u001b[0m \u001b[0;34m=\u001b[0m \u001b[0;32mFalse\u001b[0m\u001b[0;34m\u001b[0m\u001b[0;34m\u001b[0m\u001b[0m\n\u001b[0;32m-> 2299\u001b[0;31m         \u001b[0mself\u001b[0m\u001b[0;34m.\u001b[0m\u001b[0mtk\u001b[0m \u001b[0;34m=\u001b[0m \u001b[0m_tkinter\u001b[0m\u001b[0;34m.\u001b[0m\u001b[0mcreate\u001b[0m\u001b[0;34m(\u001b[0m\u001b[0mscreenName\u001b[0m\u001b[0;34m,\u001b[0m \u001b[0mbaseName\u001b[0m\u001b[0;34m,\u001b[0m \u001b[0mclassName\u001b[0m\u001b[0;34m,\u001b[0m \u001b[0minteractive\u001b[0m\u001b[0;34m,\u001b[0m \u001b[0mwantobjects\u001b[0m\u001b[0;34m,\u001b[0m \u001b[0museTk\u001b[0m\u001b[0;34m,\u001b[0m \u001b[0msync\u001b[0m\u001b[0;34m,\u001b[0m \u001b[0muse\u001b[0m\u001b[0;34m)\u001b[0m\u001b[0;34m\u001b[0m\u001b[0;34m\u001b[0m\u001b[0m\n\u001b[0m\u001b[1;32m   2300\u001b[0m         \u001b[0;32mif\u001b[0m \u001b[0museTk\u001b[0m\u001b[0;34m:\u001b[0m\u001b[0;34m\u001b[0m\u001b[0;34m\u001b[0m\u001b[0m\n\u001b[1;32m   2301\u001b[0m             \u001b[0mself\u001b[0m\u001b[0;34m.\u001b[0m\u001b[0m_loadtk\u001b[0m\u001b[0;34m(\u001b[0m\u001b[0;34m)\u001b[0m\u001b[0;34m\u001b[0m\u001b[0;34m\u001b[0m\u001b[0m\n",
            "\u001b[0;31mTclError\u001b[0m: no display name and no $DISPLAY environment variable"
          ]
        }
      ],
      "source": [
        "from tkinter import *  # on importe le module tkinter\n",
        "\n",
        "fenetre = Tk() # on crée la fenêtre principale, elle se nomme fenetre\n",
        "fenetre.geometry(\"250x200\")  # on définit la taille de la fenêtre\n",
        "fenetre.title(\"Mes premiers widgets\") # le titre de la fenêtre\n",
        "\n",
        "\n",
        "# création des widgets\n",
        "\n",
        "# zone de texte\n",
        "monMessage = Label(fenetre,text = \"Entrez votre adresse mail :\")\n",
        "# zone de saisie (input)\n",
        "maZoneInput = Entry(fenetre)\n",
        "# bouton envoyer de largeur 20 (attention 20 caractères, pas 20 px)\n",
        "monBoutton = Button(fenetre,text = \"Envoyer\",width = 20)\n",
        "\n",
        "# placement des widgets dans la fenêtre, dans l'ordre des lignes\n",
        "\n",
        "monMessage.pack()\n",
        "maZoneInput.pack()\n",
        "monBoutton.pack()\n",
        "\n",
        "fenetre.mainloop() # le programme va \"surveiller\" la fenêtre"
      ]
    },
    {
      "cell_type": "markdown",
      "metadata": {
        "tags": [],
        "user_expressions": [],
        "id": "tImXntQVkJMp"
      },
      "source": [
        "<div class=\"alert alert-success\" role=\"alert\" align=\"center\"><h2>Synthèse</h2></div>"
      ]
    },
    {
      "cell_type": "markdown",
      "metadata": {
        "id": "pL5V88TNkJMp"
      },
      "source": [
        "- Quelle fonction utiliser pour créer une zone de texte ? …...............................................................\n",
        "- Quelles sont ses paramètres ? …......................................................................................................\n",
        "- Est-il possible de laisser la zone de texte vide ? Comment faire ? ….............................................\n",
        "- Quelle fonction utiliser pour créer une zone de saisie ? …..............................................................\n",
        "- Quelles sont ses paramètres ? …......................................................................................................\n",
        "- Quelle fonction utiliser pour créer un bouton ? …..........................................................................\n",
        "- Quelles sont ses paramètres ? …......................................................................................................\n",
        "- Que se passe-t-il si on supprime son attribut width ? ….................................................................\n",
        "- Quel est l'unité de width ? …..........................................................................................................\n",
        "- Quelle fonction utiliser pour placer les widgets dans la fenêtre ? …..............................................\n",
        "- Quelle est sa syntaxe ? …..............................................…..............................................................\n",
        "- Dans quel ordre les widgets sont-ils placés ? …........….................................................................."
      ]
    },
    {
      "cell_type": "markdown",
      "metadata": {
        "user_expressions": [],
        "id": "ROTrd8FKkJMq"
      },
      "source": [
        "<h2 style=\"width:100%;text-align:left;color:darkorange;\">\n",
        "    Défi n˚ 2\n",
        "</h2>"
      ]
    },
    {
      "cell_type": "markdown",
      "metadata": {
        "id": "MZjPUTLwkJMq"
      },
      "source": [
        "Modifier le programme suivant pour traduire notre interface en anglais (titre de la fenêtre, texte, bouton).  "
      ]
    },
    {
      "cell_type": "code",
      "execution_count": null,
      "metadata": {
        "id": "FiKtpTqakJMq"
      },
      "outputs": [],
      "source": []
    },
    {
      "cell_type": "markdown",
      "metadata": {
        "user_expressions": [],
        "id": "1H6cVJbBkJMq"
      },
      "source": [
        "<h2 style=\"width:100%;text-align:left;color:darkorange;\">\n",
        "    Défi n˚ 3\n",
        "</h2>"
      ]
    },
    {
      "cell_type": "markdown",
      "metadata": {
        "id": "o4VidZjLkJMq"
      },
      "source": [
        "Écrire les lignes de code nécessaires pour obtenir cette fenêtre :  \n",
        "![image.png](attachment:852f1b4a-c155-4237-85be-e28f008a0f0a.png)"
      ]
    },
    {
      "cell_type": "code",
      "execution_count": null,
      "metadata": {
        "id": "5wuY9FibkJMq"
      },
      "outputs": [],
      "source": []
    },
    {
      "cell_type": "markdown",
      "metadata": {
        "user_expressions": [],
        "id": "XCv4m89pkJMq"
      },
      "source": [
        "<h2 style=\"width:100%;text-align:right;color:blue;\">\n",
        "    Effectuer une action simple via un bouton\n",
        "</h2>"
      ]
    },
    {
      "cell_type": "markdown",
      "metadata": {
        "user_expressions": [],
        "id": "GDbN227ckJMq"
      },
      "source": [
        "> Testez le code suivant :"
      ]
    },
    {
      "cell_type": "code",
      "execution_count": null,
      "metadata": {
        "id": "rkc0YLxIkJM5"
      },
      "outputs": [],
      "source": [
        "from tkinter import *  # on importe le module tkinter\n",
        "\n",
        "# on définit une fonction sans argument qui indique\n",
        "# ce qui va se passer lors du clic sur le bouton\n",
        "\n",
        "def change():\n",
        "    # si le bouton affiche \"Bonjour\"\n",
        "    if monBouton[\"text\"] == \"Bonjour\":\n",
        "        # on change le texte\n",
        "        monBouton[\"text\"] = \"Au revoir !\"\n",
        "        # on modifie la taille\n",
        "        monBouton[\"width\"] = 30\n",
        "        # on change la couleur du texte (foreground)\n",
        "        monBouton[\"fg\"] = \"blue\"\n",
        "    else:\n",
        "        # sinon si le texte n'était pas \"Bonjour\"\n",
        "        monBouton[\"text\"] = \"Bonjour\"\n",
        "        monBouton[\"width\"] = 20\n",
        "        monBouton[\"fg\"] = \"green\"\n",
        "\n",
        "    # une autre façon de faire, avec les méthodes cget et config\n",
        "    # à connaitre également si vous trouvez sur Internet des\n",
        "    # programmes qui les utilisent\n",
        "    # la méthode cget permet d'obtenir la valeur de la clé passée en paramètre\n",
        "    # ici, on obtient le texte du bouton\n",
        "#   if monBouton.cget(\"text\") == \"Bonjour\":\n",
        "#   # la méthode config permet de configure un paramètre, ici le texte du bouton\n",
        "#       monBouton.config(text = \"Au revoir ! \")\n",
        "#       monBouton.config(width = 40)\n",
        "#   else:\n",
        "#       monBouton.config(text = \"Bonjour\")\n",
        "\n",
        "\n",
        "fenetre = Tk() # on crée la fenêtre principale, elle se nomme fenetre\n",
        "fenetre.geometry(\"300x50\")  # on définit la taille de la fenêtre\n",
        "fenetre.title(\"Un bouton\") # le titre\n",
        "\n",
        "# on crée un bouton,\n",
        "# le paramètre 'command' permet d'indiquer quelle fonction\n",
        "# doit être appelée en cas de clic sur le bouton, ici c'est la fonction \"change\"\n",
        "\n",
        "monBouton = Button(fenetre,text = \"Bonjour\", width = 20,command=change)\n",
        "\n",
        "# placement du widget monBouton dans la fenêtre\n",
        "\n",
        "monBouton.pack()\n",
        "\n",
        "fenetre.mainloop() # le programme va \"surveiller\" la fenêtre"
      ]
    },
    {
      "cell_type": "markdown",
      "metadata": {
        "tags": [],
        "user_expressions": [],
        "id": "GW7ZuCJlkJM5"
      },
      "source": [
        "<div class=\"alert alert-success\" role=\"alert\" align=\"center\"><h2>Synthèse</h2></div>"
      ]
    },
    {
      "cell_type": "markdown",
      "metadata": {
        "id": "cJIBrb2XkJM6"
      },
      "source": [
        "- Quel paramètre peut-on rajouter à un bouton pour déclencher une action lorsqu'il est cliqué ? Avec quelle syntaxe ? …............................................................................….................................\n",
        "- Que prend en paramètre la fonction appelée lors du clic sur le bouton ? …...................................\n",
        "- Quel syntaxe pour modifier un paramètre d'un widget ? …............................................................\n",
        "- Par exemple comment modifier le texte du bouton b ? …........................................................\n",
        "- Par exemple comment modifier la largeur du bouton b ? ….....................................................\n",
        "- Quel paramètre permet de modifier la couleur du texte d'un widget ? ….......................................\n",
        "- Donnez deux exemples de valeurs qu'il peut prendre : …...............................................................\n",
        "- Quel syntaxe alternative permet de lire la valeur d'un paramètre d'un widget w ? …....................\n",
        "….....................................................................................................................................................\n",
        "- Quel syntaxe alternative permet de modifier la valeur d'un paramètre d'un widget w ? …............\n",
        "…....................................................................................................................................................."
      ]
    },
    {
      "cell_type": "markdown",
      "metadata": {
        "user_expressions": [],
        "id": "AQf6hiP3kJM6"
      },
      "source": [
        "<h2 style=\"width:100%;text-align:left;color:darkorange;\">\n",
        "    Défi n˚ 4\n",
        "</h2>"
      ]
    },
    {
      "cell_type": "markdown",
      "metadata": {
        "id": "X0n32sNikJM7"
      },
      "source": [
        "Écrire les lignes de code nécessaires pour obtenir cette fenêtre (largeur : 300 px, hauteur : 100 px, placée à 100 px du coin en haut à gauche, horizontalement et verticalement).  \n",
        "État inital :  \n",
        "![image.png](attachment:99e981f0-f5fb-4f92-b7f6-288474863481.png)  \n",
        "Après un clic sur le bouton (zone de texte, bouton et titre modifiés) :  \n",
        "![image.png](attachment:9b777393-ff20-45c4-8e11-accac2de34d8.png)"
      ]
    },
    {
      "cell_type": "markdown",
      "metadata": {
        "user_expressions": [],
        "id": "ig0DLVuWkJM7"
      },
      "source": [
        "<h2 style=\"width:100%;text-align:right;color:blue;\">\n",
        "    Modifier des widgets via un bouton\n",
        "</h2>"
      ]
    },
    {
      "cell_type": "markdown",
      "metadata": {
        "user_expressions": [],
        "id": "k1li8pkdkJM7"
      },
      "source": [
        "> Testez le code suivant :"
      ]
    },
    {
      "cell_type": "code",
      "execution_count": null,
      "metadata": {
        "id": "qfrxL6vZkJM8"
      },
      "outputs": [],
      "source": [
        "from tkinter import *\n",
        "\n",
        "# on définit une fonction sans argument qui indique\n",
        "# ce qui va se passer lors du clic sur le bouton \"Cliquez ici !\"\n",
        "\n",
        "def action_clic():\n",
        "    # on change le contenu de la zone de texte\n",
        "    # (on peut même sauter à la ligne avec \\n)\n",
        "    zone_texte['text'] = \"Bravo !\\nVous avez cliqué sur le bouton\"\n",
        "    # autre syntxe possible:\n",
        "    # zone_texte.config(text=\"Bravo !\\nVous avez cliqué sur le bouton\")\n",
        "\n",
        "    # on place la zone de texte dans un encadré\n",
        "    zone_texte['relief']=GROOVE # essayez FLAT / RAISED / SUNKEN / GROOVE / RIDGE\n",
        "\n",
        "    # on peut définir la couleur grâce à son code RGB en hexadécimal\n",
        "    # voir par exemple le site htmlcolorcodes.com\n",
        "    zone_texte['fg'] = \"#A81469\" # on change la couleur de la police\n",
        "    zone_texte['bg'] =\"#A18050\" # on change la couleur du background\n",
        "\n",
        "    # on change le titre de la fenêtre\n",
        "    fenetre.title(\"Action effectuée\")\n",
        "\n",
        "    # on ne détruit pas le widget bouton mais on l'oublie\n",
        "    # il n'est plus placé sur la fenêtre donc il disparaît\n",
        "    boutonClic.pack_forget()\n",
        "\n",
        "\n",
        "# on définit une fonction sans argument qui indique\n",
        "# ce qui va se passer lors du clic sur le bouton \"Quitter\"\n",
        "\n",
        "def fermer():\n",
        "    # la méthode destroy permet de détruire la fenêtre principale\n",
        "    fenetre.destroy()\n",
        "\n",
        "\n",
        "# on crée la fenêtre principale, avec son titre et sa taille\n",
        "\n",
        "fenetre = Tk()\n",
        "fenetre.title(\"Une action pour le bouton\")\n",
        "fenetre.geometry(\"300x100+100+100\")\n",
        "\n",
        "# on crée une zone de texte\n",
        "zone_texte = Label(fenetre,text = \"Cliquez sur le bouton ci-dessous\")\n",
        "\n",
        "# on crée un bouton \"Cliquez ici !\"\n",
        "# le paramètre 'command' permet d'indiquer quelle fonction\n",
        "# doit être appelée en cas de clic sur le bouton, ici c'est la fonction 'action_clic'\n",
        "boutonClic = Button(fenetre,text = \"Cliquez ici !\", width = 20, command = action_clic)\n",
        "\n",
        "# on crée un bouton \"Quitter\"\n",
        "boutonQuitter = Button(fenetre,text = \"Quitter\", width = 20, command = fermer)\n",
        "\n",
        "\n",
        "# on place la zone de texte, avec 3px au-dessus et en-dessous\n",
        "zone_texte.pack(pady = 3)\n",
        "# on place le bouton \"Cliquez ici !\"\n",
        "boutonClic.pack()\n",
        "# on fait apparaître le bouton Quitter\n",
        "boutonQuitter.pack()\n"
      ]
    },
    {
      "cell_type": "markdown",
      "metadata": {
        "tags": [],
        "user_expressions": [],
        "id": "crhPkFv_kJM8"
      },
      "source": [
        "<div class=\"alert alert-success\" role=\"alert\" align=\"center\"><h2>Synthèse</h2></div>"
      ]
    },
    {
      "cell_type": "markdown",
      "metadata": {
        "id": "ry3k7KVikJM8"
      },
      "source": [
        "- Comment fait-on pour insérer de l'espace vertical entre des widgets ? …......................................\n",
        "- Comment peut-on insérer un passage à la ligne dans une zone de texte ? …..................................\n",
        "- Quel paramètre permet d'encadrer une zone de texte ? …...............................................................\n",
        "- Faîtes une recherche Internet « relief tkinter ». Notez ce qui vous paraît intéressant : …..............\n",
        "…......................................................................................................................................................\n",
        "- Comment peut-on désigner une couleur quelconque pour le paramètre 'fg' ? …............................\n",
        "- Sur quel site par exemple peut-on trouver et visualiser ces codes RGB ? …..................................\n",
        "- Quel paramètre permet de modifier la couleur d'arrière plan d'un widget ? …...............................\n",
        "- Comment faire disparaître un widget de l'écran ? ….......................................................................\n",
        "- Quelle méthode permet de fermer la fenêtre ? …............................................................................"
      ]
    },
    {
      "cell_type": "markdown",
      "metadata": {
        "user_expressions": [],
        "id": "NztmxvWnkJM9"
      },
      "source": [
        "<h2 style=\"width:100%;text-align:left;color:darkorange;\">\n",
        "    Défi n˚ 5\n",
        "</h2>"
      ]
    },
    {
      "cell_type": "markdown",
      "metadata": {
        "id": "_und3J7akJM9"
      },
      "source": [
        "Écrire les lignes de code nécessaires pour obtenir cette fenêtre (choisissez des couleurs personnelles avec leur code en hexadécimal)."
      ]
    },
    {
      "cell_type": "markdown",
      "metadata": {
        "id": "MNSyYjcVkJM9"
      },
      "source": [
        "État inital :  \n",
        "![image.png](attachment:9b1164f7-abd5-4a91-8ab9-e6d0f512c40b.png)  \n",
        "Après un clic sur le bouton `Faire tout disparaître` :  \n",
        "![image.png](attachment:7dc7c24c-6678-4489-b1a0-b5e18dac3048.png)"
      ]
    },
    {
      "cell_type": "code",
      "execution_count": null,
      "metadata": {
        "id": "dwsPRRszkJM9"
      },
      "outputs": [],
      "source": []
    },
    {
      "cell_type": "markdown",
      "metadata": {
        "user_expressions": [],
        "id": "4CSnDOxgkJM-"
      },
      "source": [
        "<h2 style=\"width:100%;text-align:right;color:blue;\">\n",
        "    Travailler avec les zones de saisie\n",
        "</h2>"
      ]
    },
    {
      "cell_type": "markdown",
      "metadata": {
        "user_expressions": [],
        "id": "BnUE-Un4kJM-"
      },
      "source": [
        "> Testez le code suivant :"
      ]
    },
    {
      "cell_type": "code",
      "execution_count": null,
      "metadata": {
        "id": "ctF1Ut_bkJM_"
      },
      "outputs": [],
      "source": [
        "from tkinter import *  # on importe le module tkinter\n",
        "\n",
        "def envoi():\n",
        "    # on récupère le texte entré dans la zone input (méthode get)\n",
        "    adresseMail = maZoneInput.get()\n",
        "    # on supprime le texte entré par l'utilisateur\n",
        "    maZoneInput.delete(0,END)\n",
        "    # on modifie la zone de texte\n",
        "    monMessage['text'] = \"Le mail a bien été envoyé à l'adresse\\n\" + adresseMail\n",
        "    # ou monMessage.config(text = \"Le mail a bien été envoyé à l'adresse \" + adresseMail)\n",
        "\n",
        "\n",
        "fenetre = Tk() # on crée la fenêtre principale, elle se nomme fenetre\n",
        "fenetre.geometry(\"300x200+100+100\")  # on définit la taille de la fenêtre\n",
        "fenetre.title(\"Zone de saisie\") # le titre\n",
        "\n",
        "# création des widgets\n",
        "\n",
        "# Zone de texte\n",
        "monMessage = Label(fenetre,text = \"Entrez votre adresse mail :\") # texte\n",
        "\n",
        "# zone de saisie\n",
        "maZoneInput = Entry(fenetre)\n",
        "# on insère un texte par défaut dans la zone de saisie (en position 0)\n",
        "maZoneInput.insert(0,\"...\")\n",
        "# la ligne ci-dessous permettrait de placer le curseur en position 0\n",
        "#maZoneInput.icursor(0)\n",
        "# on sélectionne le texte de la zone de saisie entre la position 0 et la fin\n",
        "maZoneInput.selection_range(0,END)\n",
        "\n",
        "# bouton envoyer, le paramètre command indique la fonction à executer en cas de clic\n",
        "monBouton = Button(fenetre,text = \"Envoyer\",width = 20,command=envoi)\n",
        "\n",
        "# placement des widgets dans la fenêtre\n",
        "monMessage.pack(pady = 2)\n",
        "maZoneInput.pack(pady = 2)\n",
        "monBouton.pack(pady = 2)\n",
        "\n",
        "# on positionne le curseur dans le champ d'entrée de texte\n",
        "maZoneInput.focus()\n",
        "\n",
        "fenetre.mainloop() # le programme va \"surveiller\" la fenêtre"
      ]
    },
    {
      "cell_type": "markdown",
      "metadata": {
        "tags": [],
        "user_expressions": [],
        "id": "GV_ByskwkJM_"
      },
      "source": [
        "<div class=\"alert alert-success\" role=\"alert\" align=\"center\"><h2>Synthèse</h2></div>"
      ]
    },
    {
      "cell_type": "markdown",
      "metadata": {
        "id": "O7kXEwXDkJNA"
      },
      "source": [
        "- Comment fait on pour créer une zone de saisie ? …........................................................................\n",
        "- Comment fait-on pour insérer un texte dans une zone de saisie ? …..............................................\n",
        "- Comment fait-on pour positionner le curseur en position n dans une zone de saisie ? …..............\n",
        "- Comment fait-on pour sélectionner le texte d'une zone de saisie entre la position n et la\n",
        "position m : …..................................................................................................................................\n",
        "- Quelle est l'indice de la première lettre d'une zone de saisie ? .......................................................\n",
        "- De la dernière lettre ? …..................................................................................................................\n",
        "- Comment fait on pour positionner le curseur dans une zone de saisie ? ….....................................\n",
        "- Comment fait-on pour récupérer le texte entré dans une zone de saisie ? …..................................\n",
        "- Comment fait-on pour supprimer le texte d'une zone de saisie ? ….............................................."
      ]
    },
    {
      "cell_type": "markdown",
      "metadata": {
        "user_expressions": [],
        "id": "_trJyrF4kJNB"
      },
      "source": [
        "<h2 style=\"width:100%;text-align:left;color:darkorange;\">\n",
        "    Défi n˚ 6 : une boîte à couleur\n",
        "</h2>"
      ]
    },
    {
      "cell_type": "markdown",
      "metadata": {
        "id": "yTqfzjUrkJNB"
      },
      "source": [
        "Écrire les lignes de code nécessaires pour obtenir le petit programme graphique ci-dessous.  \n",
        "On affichera la couleur dans un widget Label dont on modifiera le paramètre background (bg).  \n",
        "Pour encadrer un widget, on peut utiliser le paramètre relief en mettant la valeur GROOVE  (donc relief = GROOVE).\n",
        "\n",
        "État inital :  \n",
        "![image.png](attachment:c16ce87c-0166-4fbf-ba92-d17c1d631237.png)  \n",
        "Après avoir entré une couleur RGB :  \n",
        "![image.png](attachment:201a43a0-452f-4142-84b8-ed2682ae5d0d.png)"
      ]
    },
    {
      "cell_type": "code",
      "execution_count": null,
      "metadata": {
        "id": "tQz1FpGxkJNB"
      },
      "outputs": [],
      "source": []
    },
    {
      "cell_type": "markdown",
      "metadata": {
        "user_expressions": [],
        "id": "yyx65l6LkJNC"
      },
      "source": [
        "<h2 style=\"width:100%;text-align:left;color:darkorange;\">\n",
        "    Défi n˚ 7 : un convertisseur binaire\n",
        "</h2>"
      ]
    },
    {
      "cell_type": "markdown",
      "metadata": {
        "id": "4JNNNqSDkJNC"
      },
      "source": [
        "Pour ce défi, utilisez plutôt vos fonctions de conversion binaire.\n",
        "Écrire les lignes de code nécessaires pour obtenir ce petit programme graphique.\n",
        "\n",
        "État inital :  \n",
        "![image.png](attachment:8395b784-17fe-4a86-9aed-00e4a5e600d4.png)  \n",
        "Conversion d'un nombre décimal :  \n",
        "![image.png](attachment:1f9d0f66-c26e-4f36-a531-7dcaefb97a34.png)  \n",
        "Conversion d'un nombre binaire :  \n",
        "![image.png](attachment:02eb91fc-d5ac-4bc4-a8b9-dbae7b87c748.png)"
      ]
    },
    {
      "cell_type": "code",
      "execution_count": null,
      "metadata": {
        "id": "d07WG9HgkJNC"
      },
      "outputs": [],
      "source": []
    },
    {
      "cell_type": "markdown",
      "metadata": {
        "user_expressions": [],
        "id": "48iAMjq4kJND"
      },
      "source": [
        "<h2 style=\"width:100%;text-align:left;color:darkorange;\">\n",
        "    Défi n˚ 8 : améliorations de notre convertisseur binaire\n",
        "</h2>"
      ]
    },
    {
      "cell_type": "markdown",
      "metadata": {
        "user_expressions": [],
        "id": "pAWpMg4nkJND"
      },
      "source": [
        "On change désormais le texte `Le nombre converti` pour afficher en fonction des cas :  \n",
        "` …. en binaire vaut : ` ou ` .... en décimal vaut : `.  \n",
        "On affiche le nombre converti dans un widget `Entry` de manière à pouvoir copier la réponse et on fait en sorte que ce widget et ce qu'il contient soient présélectionnés.  \n",
        "\n",
        "![image.png](attachment:7e15baf2-ee26-40e5-9fae-700a0a49528e.png)"
      ]
    },
    {
      "cell_type": "code",
      "execution_count": null,
      "metadata": {
        "id": "91ISB0xtkJND"
      },
      "outputs": [],
      "source": []
    }
  ],
  "metadata": {
    "kernelspec": {
      "display_name": "Python 3 (ipykernel)",
      "language": "python",
      "name": "python3"
    },
    "language_info": {
      "codemirror_mode": {
        "name": "ipython",
        "version": 3
      },
      "file_extension": ".py",
      "mimetype": "text/x-python",
      "name": "python",
      "nbconvert_exporter": "python",
      "pygments_lexer": "ipython3",
      "version": "3.10.11"
    },
    "colab": {
      "provenance": []
    }
  },
  "nbformat": 4,
  "nbformat_minor": 0
}